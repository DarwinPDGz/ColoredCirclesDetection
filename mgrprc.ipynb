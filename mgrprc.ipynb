{
 "cells": [
  {
   "cell_type": "code",
   "execution_count": 115,
   "metadata": {},
   "outputs": [],
   "source": [
    "import numpy as np\n",
    "import cv2\n",
    "import matplotlib.pyplot as plt\n",
    "import os"
   ]
  },
  {
   "cell_type": "code",
   "execution_count": 116,
   "metadata": {},
   "outputs": [],
   "source": [
    "# path = 'c:/Users/Darwin/Documents/Wayang_related/imgprocessing/sita_initial_wflash/threequarters/lptf/'\n",
    "# path = 'c:/Users/Darwin/Documents/Wayang_related/imgprocessing/sita_initial_wflash/threequarters/ptf/'\n",
    "# path = 'c:/Users/Darwin/Documents/Wayang_related/imgprocessing/sita_initial_wflash/threequarters/mf/'\n",
    "# path = 'c:/Users/Darwin/Documents/Wayang_related/imgprocessing/sita_initial_wflash/threequarters/pts/'\n",
    "# path = 'c:/Users/Darwin/Documents/Wayang_related/imgprocessing/rahwana/ptf/'\n",
    "# path = 'c:/Users/Darwin/Documents/Wayang_related/imgprocessing/rahwana/lptf/'\n",
    "# path = 'c:/Users/Darwin/Documents/Wayang_related/imgprocessing/rahwana/mf/'\n",
    "# path = 'c:/Users/Darwin/Documents/Wayang_related/imgprocessing/rahwana/df/'\n",
    "# path = 'c:/Users/Darwin/Documents/Wayang_related/imgprocessing/hanuman/ptf/'\n",
    "# path = 'c:/Users/Darwin/Documents/Wayang_related/imgprocessing/laksmana/ptf/'\n",
    "# path = 'c:/Users/Darwin/Documents/Wayang_related/imgprocessing/laksmana/lptf/'\n",
    "# path = 'c:/Users/Darwin/Documents/Wayang_related/imgprocessing/laksmana/mf/'\n",
    "# path = 'c:/Users/Darwin/Documents/Wayang_related/imgprocessing/laksmana/df/'\n",
    "# path = 'c:/Users/Darwin/Documents/Wayang_related/imgprocessing/laksmana/pts/'\n",
    "# path = 'c:/Users/Darwin/Documents/Wayang_related/imgprocessing/Sugriwa/ptf/'\n",
    "# path = 'c:/Users/Darwin/Documents/Wayang_related/imgprocessing/Sugriwa/lptf/'\n",
    "# path = 'c:/Users/Darwin/Documents/Wayang_related/imgprocessing/Sugriwa/mf/'\n",
    "# path = 'c:/Users/Darwin/Documents/Wayang_related/imgprocessing/Sugriwa/df/'\n",
    "# path = 'c:/Users/Darwin/Documents/Wayang_related/imgprocessing/Sugriwa/pts/'\n",
    "# path = 'c:/Users/Darwin/Documents/Wayang_related/imgprocessing/Subali/ptf/'\n",
    "# path = 'c:/Users/Darwin/Documents/Wayang_related/imgprocessing/Subali/lptf/'\n",
    "# path = 'c:/Users/Darwin/Documents/Wayang_related/imgprocessing/Subali/mf/'\n",
    "# path = 'c:/Users/Darwin/Documents/Wayang_related/imgprocessing/Subali/df/'\n",
    "# path = 'c:/Users/Darwin/Documents/Wayang_related/imgprocessing/Subali/pts/'\n",
    "# path = 'c:/Users/Darwin/Documents/Wayang_related/imgprocessing/rama/ptf/'\n",
    "# path = 'c:/Users/Darwin/Documents/Wayang_related/imgprocessing/rama/lptf/'\n",
    "# path = 'c:/Users/Darwin/Documents/Wayang_related/imgprocessing/rama/mf/'\n",
    "# path = 'c:/Users/Darwin/Documents/Wayang_related/imgprocessing/rama/df/'\n",
    "path = 'c:/Users/Darwin/Documents/Wayang_related/imgprocessing/rama/pts/'\n",
    "\n",
    "\n",
    "\n",
    "\n",
    "list_of_dirs = os.listdir(path)\n",
    "\n",
    "first_img = path + list_of_dirs[0]"
   ]
  },
  {
   "cell_type": "code",
   "execution_count": 117,
   "metadata": {},
   "outputs": [
    {
     "name": "stdout",
     "output_type": "stream",
     "text": [
      "c:/Users/Darwin/Documents/Wayang_related/imgprocessing/rama/pts/20241113_124801628_iOS.jpg\n"
     ]
    }
   ],
   "source": [
    "print(first_img)"
   ]
  },
  {
   "cell_type": "code",
   "execution_count": 118,
   "metadata": {},
   "outputs": [],
   "source": [
    "resize = 0.2\n",
    "\n",
    "img = cv2.imread(first_img, cv2.IMREAD_COLOR)\n",
    "\n",
    "img = cv2.resize(img, (0,0), fx=resize, fy=resize)"
   ]
  },
  {
   "cell_type": "code",
   "execution_count": 119,
   "metadata": {},
   "outputs": [],
   "source": [
    "which_wyg = \"rama/\"\n",
    "which_pose = \"pts\" +\"_uned\"+ \".jpg\"\n",
    "\n",
    "spath='c:/Users/Darwin/Documents/Wayang_related/imgprocessing/slidepics/'+which_wyg+which_pose"
   ]
  },
  {
   "cell_type": "code",
   "execution_count": 120,
   "metadata": {},
   "outputs": [
    {
     "data": {
      "text/plain": [
       "True"
      ]
     },
     "execution_count": 120,
     "metadata": {},
     "output_type": "execute_result"
    }
   ],
   "source": [
    "cv2.imwrite(spath, img)"
   ]
  }
 ],
 "metadata": {
  "kernelspec": {
   "display_name": "python-cvcourse",
   "language": "python",
   "name": "python3"
  },
  "language_info": {
   "codemirror_mode": {
    "name": "ipython",
    "version": 3
   },
   "file_extension": ".py",
   "mimetype": "text/x-python",
   "name": "python",
   "nbconvert_exporter": "python",
   "pygments_lexer": "ipython3",
   "version": "3.6.6"
  }
 },
 "nbformat": 4,
 "nbformat_minor": 2
}
