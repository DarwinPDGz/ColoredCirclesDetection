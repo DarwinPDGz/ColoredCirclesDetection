{
 "cells": [
  {
   "cell_type": "code",
   "execution_count": null,
   "metadata": {},
   "outputs": [],
   "source": [
    "from circledetect import CircleDetect, CircleDetectInstance\n",
    "import os"
   ]
  },
  {
   "cell_type": "code",
   "execution_count": null,
   "metadata": {},
   "outputs": [],
   "source": [
    "# path = 'c:/Users/Darwin/Documents/Wayang_related/imgprocessing/colored_grid_small.jpg'\n",
    "# path = 'c:/Users/Darwin/Documents/Wayang_related/imgprocessing/sita_initial_wflash/'\n",
    "# path = 'c:/Users/Darwin/Documents/Wayang_related/imgprocessing/sita_initial_wflash/threequarters/'\n",
    "# path = 'c:/Users/Darwin/Documents/Wayang_related/imgprocessing/sita_initial_wflash/threequarters/ptf/'\n",
    "path = 'c:/Users/Darwin/Documents/Wayang_related/imgprocessing/sita_initial_wflash/threequarters/df/'\n",
    "\n",
    "list = os.listdir(path)"
   ]
  },
  {
   "cell_type": "code",
   "execution_count": null,
   "metadata": {},
   "outputs": [],
   "source": [
    "type(list)"
   ]
  },
  {
   "cell_type": "code",
   "execution_count": null,
   "metadata": {},
   "outputs": [],
   "source": [
    "list"
   ]
  },
  {
   "cell_type": "code",
   "execution_count": null,
   "metadata": {},
   "outputs": [],
   "source": [
    "real_path =[]\n",
    "for i in range(len(list)):\n",
    "    real_path.append(path + list[i])"
   ]
  },
  {
   "cell_type": "markdown",
   "metadata": {},
   "source": [
    "le nested dictionaries (low level language programmers finna be mad at this revelation)"
   ]
  },
  {
   "cell_type": "code",
   "execution_count": null,
   "metadata": {},
   "outputs": [],
   "source": [
    "dict_list_of_params = {}\n",
    "\n",
    "for i in range(len(list)):\n",
    "    list_of_params = {\n",
    "        'real_path': real_path[i],\n",
    "        'minDist': 50,\n",
    "        'param1': 70,\n",
    "        'param2': 15,\n",
    "        'minRadius': 16,\n",
    "        'maxRadius': 22,\n",
    "        'ptp': 80,\n",
    "        'tolerance': 8,\n",
    "        'detectFULL': True,\n",
    "        'cct': 2,\n",
    "        'range_type': 2,\n",
    "        'set_order_f':CircleDetect.SET_ORDER_F_SITA,\n",
    "        'set_order_b':CircleDetect.SET_ORDER_B_SITA,\n",
    "        'arrayVersion': True}\n",
    "    \n",
    "    dict_list_of_params[i] = list_of_params"
   ]
  },
  {
   "cell_type": "code",
   "execution_count": null,
   "metadata": {},
   "outputs": [],
   "source": [
    "# list_of_params = {\n",
    "#     'real_path': real_path[7],\n",
    "#     'minDist': 50,\n",
    "#     'param1': 70,\n",
    "#     'param2': 20,\n",
    "#     'minRadius': 12,\n",
    "#     'maxRadius': 19,\n",
    "#     'ptp': 80,\n",
    "#     'tolerance': 8,\n",
    "#     'detectFULL': True,\n",
    "#     'cct': 2,\n",
    "#     'range_type': 2,\n",
    "#     'set_order_f':CircleDetect.SET_ORDER_F_SITA,\n",
    "#     'set_order_b':CircleDetect.SET_ORDER_B_SITA,\n",
    "#     'arrayVersion': False}\n",
    "\n",
    "\n",
    "# list_of_params = {\n",
    "#     'real_path': real_path[2],\n",
    "#     'minDist': 50,\n",
    "#     'param1': 70,\n",
    "#     'param2': 20,\n",
    "#     'minRadius': 20,\n",
    "#     'maxRadius': 25,\n",
    "#     'ptp': 80,\n",
    "#     'tolerance': 8,\n",
    "#     'detectFULL': True,\n",
    "#     'cct': 2,\n",
    "#     'range_type': 2,\n",
    "#     'set_order_f':CircleDetect.SET_ORDER_F_SITA,\n",
    "#     'set_order_b':CircleDetect.SET_ORDER_B_SITA,\n",
    "#     'arrayVersion': True}"
   ]
  },
  {
   "cell_type": "markdown",
   "metadata": {},
   "source": [
    "Create an instance (or all the instances [also in a dictionary because yes])"
   ]
  },
  {
   "cell_type": "code",
   "execution_count": null,
   "metadata": {},
   "outputs": [],
   "source": [
    "# my_instance = CircleDetectInstance(\n",
    "#     list_of_params['real_path'], \n",
    "#     detectFULL=list_of_params['detectFULL'], \n",
    "#     cct= list_of_params['cct'], \n",
    "#     range_type=list_of_params['range_type'], \n",
    "#     arrayVersion=list_of_params['arrayVersion'],\n",
    "#     minimumDist= list_of_params['minDist'], \n",
    "#     parameter2=list_of_params['param2'], \n",
    "#     minimumRadius= list_of_params['minRadius'], \n",
    "#     maximumRadius=list_of_params['maxRadius'], \n",
    "#     ptpthreshold=list_of_params['ptp'], \n",
    "#     tolerance=list_of_params['tolerance'],\n",
    "#     set_order_f=list_of_params['set_order_f'],\n",
    "#     set_order_b=list_of_params['set_order_b'])\n",
    "\n",
    "# i = 1\n",
    "\n",
    "# my_instance = CircleDetect(\n",
    "#     dict_list_of_params[i]['real_path'], \n",
    "#     detectFULL=dict_list_of_params[i]['detectFULL'], \n",
    "#     cct= dict_list_of_params[i]['cct'], \n",
    "#     range_type=dict_list_of_params[i]['range_type'], \n",
    "#     arrayVersion=dict_list_of_params[i]['arrayVersion'],\n",
    "#     minimumDist= dict_list_of_params[i]['minDist'], \n",
    "#     parameter2=dict_list_of_params[i]['param2'], \n",
    "#     minimumRadius= dict_list_of_params[i]['minRadius'], \n",
    "#     maximumRadius=dict_list_of_params[i]['maxRadius'], \n",
    "#     ptpthreshold=dict_list_of_params[i]['ptp'], \n",
    "#     tolerance=dict_list_of_params[i]['tolerance'],\n",
    "#     set_order_f=dict_list_of_params[i]['set_order_f'],\n",
    "#     set_order_b=dict_list_of_params[i]['set_order_b'])\n",
    "\n",
    "dict_list_of_instances = {}\n",
    "\n",
    "for i in range(len(list)):\n",
    "    my_instance = CircleDetectInstance(\n",
    "        dict_list_of_params[i]['real_path'], \n",
    "        detectFULL=dict_list_of_params[i]['detectFULL'], \n",
    "        cct= dict_list_of_params[i]['cct'], \n",
    "        range_type=dict_list_of_params[i]['range_type'], \n",
    "        arrayVersion=dict_list_of_params[i]['arrayVersion'],\n",
    "        minimumDist= dict_list_of_params[i]['minDist'], \n",
    "        parameter2=dict_list_of_params[i]['param2'], \n",
    "        minimumRadius= dict_list_of_params[i]['minRadius'], \n",
    "        maximumRadius=dict_list_of_params[i]['maxRadius'], \n",
    "        ptpthreshold=dict_list_of_params[i]['ptp'], \n",
    "        tolerance=dict_list_of_params[i]['tolerance'],\n",
    "        set_order_f=dict_list_of_params[i]['set_order_f'],\n",
    "        set_order_b=dict_list_of_params[i]['set_order_b'])\n",
    "    \n",
    "    dict_list_of_instances[i] = my_instance"
   ]
  },
  {
   "cell_type": "markdown",
   "metadata": {},
   "source": [
    "Threshold"
   ]
  },
  {
   "cell_type": "code",
   "execution_count": null,
   "metadata": {},
   "outputs": [],
   "source": [
    "# my_algorithm.threshold_img_otsu()"
   ]
  },
  {
   "cell_type": "markdown",
   "metadata": {},
   "source": [
    "show raw circles (all the circles detected by CircleDetect.detect_circles())"
   ]
  },
  {
   "cell_type": "code",
   "execution_count": null,
   "metadata": {},
   "outputs": [],
   "source": [
    "# my_algorithm.show_raw_circles()"
   ]
  },
  {
   "cell_type": "code",
   "execution_count": null,
   "metadata": {},
   "outputs": [],
   "source": [
    "# # circles[0][i][0], circles[0][i][1], circles[0][i][2]\n",
    "\n",
    "# n = 12\n",
    "# # my_algorithm.hls_visualizer(my_algorithm.circles[0][n][0], my_algorithm.circles[0][n][1], my_algorithm.circles[0][n][2], my_algorithm.img)\n",
    "# hc, lc, sc = my_algorithm.grab_big_groups(my_algorithm.circles[0][n][0], my_algorithm.circles[0][n][1], my_algorithm.circles[0][n][2], my_algorithm.img)\n",
    "# # my_algorithm.view_roc(my_algorithm.circles[0][n][0], my_algorithm.circles[0][n][1], my_algorithm.circles[0][n][2], my_algorithm.img)\n",
    "# my_algorithm.show_singular_circle(my_algorithm.circles[0][n][0], my_algorithm.circles[0][n][1], my_algorithm.circles[0][n][2])\n",
    "\n",
    "# print('done')\n",
    "# print(hc, lc, sc)\n"
   ]
  },
  {
   "cell_type": "markdown",
   "metadata": {},
   "source": [
    "show initial circles (circles that have passed the range/hls filter)"
   ]
  },
  {
   "cell_type": "code",
   "execution_count": null,
   "metadata": {},
   "outputs": [],
   "source": [
    "# my_instance.show_initial_circles()\n",
    "\n",
    "# dict_list_of_instances[0].cd.show_initial_circles()"
   ]
  },
  {
   "cell_type": "markdown",
   "metadata": {},
   "source": [
    "show filtered circles (circles that have been organized in terms of color and duplicate colored circles omitted based on color similarity to preset color values)"
   ]
  },
  {
   "cell_type": "code",
   "execution_count": null,
   "metadata": {},
   "outputs": [],
   "source": [
    "# for file in list:\n",
    "#     CircleDetect(path+file).vectorize()\n",
    "\n",
    "# ¿Forma elíptica y colores similares? ¡No hay problema!\n",
    "\n",
    "# my_algorithm.show_filtered_circles()\n"
   ]
  },
  {
   "cell_type": "markdown",
   "metadata": {},
   "source": [
    "show img (show image with processed circles and vector visualization)"
   ]
  },
  {
   "cell_type": "code",
   "execution_count": null,
   "metadata": {},
   "outputs": [],
   "source": [
    "# preparing path for saving\n",
    "\n",
    "savepath = path + 'processed/'\n",
    "\n",
    "list_of_saves = []\n",
    "\n",
    "for i in range(len(list)):\n",
    "    list_of_saves.append(savepath + 'processed_' + list[i])"
   ]
  },
  {
   "cell_type": "code",
   "execution_count": null,
   "metadata": {},
   "outputs": [],
   "source": [
    "# vfront, vback = my_algorithm.show_processed_image()\n",
    "\n",
    "# vfront, vback = my_instance.show_processed_image()\n",
    "n = 9\n",
    "\n",
    "vfront, vback = dict_list_of_instances[n].cd.show_processed_image(save=True, path=list_of_saves[n])\n",
    "\n",
    "print('done, vector values below')\n",
    "print(vfront)\n",
    "print(vback)"
   ]
  },
  {
   "cell_type": "markdown",
   "metadata": {},
   "source": [
    "vectorize (return vector values without showing image)"
   ]
  },
  {
   "cell_type": "code",
   "execution_count": null,
   "metadata": {},
   "outputs": [],
   "source": [
    "# front, back = my_algorithm.vectorize()"
   ]
  },
  {
   "cell_type": "code",
   "execution_count": null,
   "metadata": {},
   "outputs": [],
   "source": [
    "# print(front)"
   ]
  },
  {
   "cell_type": "code",
   "execution_count": null,
   "metadata": {},
   "outputs": [],
   "source": [
    "# print(back)"
   ]
  },
  {
   "cell_type": "code",
   "execution_count": null,
   "metadata": {},
   "outputs": [],
   "source": []
  }
 ],
 "metadata": {
  "kernelspec": {
   "display_name": "python-wayang",
   "language": "python",
   "name": "python3"
  },
  "language_info": {
   "codemirror_mode": {
    "name": "ipython",
    "version": 3
   },
   "file_extension": ".py",
   "mimetype": "text/x-python",
   "name": "python",
   "nbconvert_exporter": "python",
   "pygments_lexer": "ipython3",
   "version": "3.6.6"
  }
 },
 "nbformat": 4,
 "nbformat_minor": 2
}
