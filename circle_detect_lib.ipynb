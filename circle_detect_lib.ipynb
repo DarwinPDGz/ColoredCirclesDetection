{
 "cells": [
  {
   "cell_type": "code",
   "execution_count": 1,
   "metadata": {},
   "outputs": [],
   "source": [
    "from circledetect import CircleDetect\n",
    "import os"
   ]
  },
  {
   "cell_type": "code",
   "execution_count": 2,
   "metadata": {},
   "outputs": [],
   "source": [
    "# path = 'c:/Users/Darwin/Documents/Wayang_related/imgprocessing/colored_grid_small.jpg'\n",
    "# path = 'c:/Users/Darwin/Documents/Wayang_related/imgprocessing/sita_initial_wflash/'\n",
    "path = 'c:/Users/Darwin/Documents/Wayang_related/imgprocessing/sita_initial_wflash/threequarters/'\n",
    "\n",
    "list = os.listdir(path)"
   ]
  },
  {
   "cell_type": "code",
   "execution_count": 3,
   "metadata": {},
   "outputs": [
    {
     "data": {
      "text/plain": [
       "list"
      ]
     },
     "execution_count": 3,
     "metadata": {},
     "output_type": "execute_result"
    }
   ],
   "source": [
    "type(list)"
   ]
  },
  {
   "cell_type": "code",
   "execution_count": 4,
   "metadata": {},
   "outputs": [
    {
     "data": {
      "text/plain": [
       "['sita1.jpg']"
      ]
     },
     "execution_count": 4,
     "metadata": {},
     "output_type": "execute_result"
    }
   ],
   "source": [
    "list"
   ]
  },
  {
   "cell_type": "code",
   "execution_count": 5,
   "metadata": {},
   "outputs": [],
   "source": [
    "real_path =[]\n",
    "for i in range(len(list)):\n",
    "    real_path.append(path + list[i])"
   ]
  },
  {
   "cell_type": "code",
   "execution_count": 6,
   "metadata": {},
   "outputs": [],
   "source": [
    "list_of_params = {\n",
    "    'real_path': real_path[0],\n",
    "    'minDist': 50,\n",
    "    'param1': 70,\n",
    "    'param2': 15,\n",
    "    'minRadius': 20,\n",
    "    'maxRadius': 25,\n",
    "    'ptp': 80,\n",
    "    'tolerance': 8,\n",
    "    'detectFULL': True,\n",
    "    'cct': 2,\n",
    "    'range_type': 2\n",
    "}"
   ]
  },
  {
   "cell_type": "markdown",
   "metadata": {},
   "source": [
    "Create an instance"
   ]
  },
  {
   "cell_type": "code",
   "execution_count": 7,
   "metadata": {},
   "outputs": [
    {
     "name": "stdout",
     "output_type": "stream",
     "text": [
      "ratio\n",
      "h:  0.9571522742254449\n",
      "l:  0.6328279499011207\n",
      "s:  0.6558998022412657\n",
      "[105 106 107 108 109 104 103 110 101 111  98 114 102 112  99] (15,)\n",
      "alt_filter_circles passed: 0\n",
      "ratio\n",
      "h:  0.9885057471264368\n",
      "l:  0.8995765275257108\n",
      "s:  0.9630973986690865\n",
      "[ 2  3  1  0  4  5  8 11  6] (9,)\n",
      "alt_filter_circles passed: 1\n",
      "ratio\n",
      "h:  0.9600725952813067\n",
      "l:  0.9074410163339383\n",
      "s:  0.5359951603145795\n",
      "[25 20 30 24 19 21 22 16 17 18 23 26] (12,)\n",
      "alt_filter_circles passed: 2\n",
      "ratio\n",
      "h:  0.9380355965721819\n",
      "l:  0.8609096901779829\n",
      "s:  0.8075148319050758\n",
      "[27 26 30 28 25 24 22 21 20 36 34 19 23 29 35] (15,)\n",
      "alt_filter_circles passed: 3\n",
      "ratio\n",
      "h:  0.9512017479970867\n",
      "l:  0.8943918426802622\n",
      "s:  0.7669337217771304\n",
      "[42 41 43 40 44 38 35 39 45 36 49 34 48 51 37 33 46 50] (18,)\n",
      "alt_filter_circles passed: 4\n",
      "ratio\n",
      "h:  0.971654581410679\n",
      "l:  0.9400131839156229\n",
      "s:  0.914963744232037\n",
      "[116 115 118 117 114 120 124 113 119 125 121 123 122 112 108 107] (16,)\n",
      "alt_filter_circles passed: 5\n",
      "ratio\n",
      "h:  0.31567205800334636\n",
      "l:  0.2147239263803681\n",
      "s:  0.23759063022866703\n",
      "[0 4 5 6 8 1 3 2 7 9] (10,)\n",
      "ratio\n",
      "h:  0.7699406723796968\n",
      "l:  0.5537244561634805\n",
      "s:  0.7356624917600527\n",
      "[167 166 168 165 169 172 170 173 171 174 176 164 175] (13,)\n",
      "alt_filter_circles passed: 7\n",
      "ratio\n",
      "h:  0.8252002913328478\n",
      "l:  0.23452294246176256\n",
      "s:  0.3372177713037145\n",
      "[21 20 22 19 23 18 17 24 25 13 16 15 12 29 27 28 30 26 14] (19,)\n",
      "ratio\n",
      "h:  0.9185722253206916\n",
      "l:  0.912994980479643\n",
      "s:  0.4891243725599554\n",
      "[112 111 110 109 113 114 108 120 116 115 107 119 106 103 121 118 117] (17,)\n",
      "alt_filter_circles passed: 9\n",
      "ratio\n",
      "h:  0.5392221489782465\n",
      "l:  0.16875411997363216\n",
      "s:  0.05207646671061305\n",
      "[20 21 22 19 17 24 18 23 26 16 15 13 14 11 25 28 12 29 27] (19,)\n",
      "ratio\n",
      "h:  0.786598689002185\n",
      "l:  0.7013838310269482\n",
      "s:  0.3721777130371449\n",
      "[109 110 112 108 111 113 116 115 114 107 117 118 106 104] (14,)\n",
      "alt_filter_circles passed: 11\n",
      "ratio\n",
      "h:  0.968358602504944\n",
      "l:  0.6282135794330916\n",
      "s:  0.6565589980224127\n",
      "[105 106 107 108 109 104 103 110 111 101 114 102  99  98  96 112] (16,)\n",
      "alt_filter_circles passed: 12\n",
      "ratio\n",
      "h:  0.992748846407383\n",
      "l:  0.965721819380356\n",
      "s:  0.936717205009888\n",
      "[116 115 117 118 114 119 125 121 124 113 122 120 112 111 123] (15,)\n",
      "alt_filter_circles passed: 13\n",
      "ratio\n",
      "h:  0.9885057471264368\n",
      "l:  0.8995765275257108\n",
      "s:  0.9630973986690865\n",
      "[ 2  3  1  0  4  5  8 11  6] (9,)\n",
      "alt_filter_circles passed: 14\n",
      "ratio\n",
      "h:  0.9512017479970867\n",
      "l:  0.8943918426802622\n",
      "s:  0.7669337217771304\n",
      "[42 41 43 40 44 38 35 39 45 36 49 34 48 51 37 33 46 50] (18,)\n",
      "alt_filter_circles passed: 15\n",
      "ratio\n",
      "h:  0.9600725952813067\n",
      "l:  0.9074410163339383\n",
      "s:  0.5359951603145795\n",
      "[25 20 30 24 19 21 22 16 17 18 23 26] (12,)\n",
      "alt_filter_circles passed: 16\n",
      "ratio\n",
      "h:  0.962425840474621\n",
      "l:  0.8661832564271589\n",
      "s:  0.8121292023731048\n",
      "[27 26 25 28 24 22 20 21 18 29 23 19 30 34 35 36] (16,)\n",
      "alt_filter_circles passed: 17\n",
      "ratio\n",
      "h:  0.774217042971595\n",
      "l:  0.6860888565185724\n",
      "s:  0.36926438455935906\n",
      "[109 110 112 111 108 113 115 116 114 117 107 118 106 104] (14,)\n",
      "alt_filter_circles passed: 18\n",
      "ratio\n",
      "h:  0.984838497033619\n",
      "l:  0.96044825313118\n",
      "s:  0.5286750164798946\n",
      "[112 110 111 109 113 108 114 116 115 120 119 106 121] (13,)\n",
      "alt_filter_circles passed: 19\n",
      "ratio\n",
      "h:  0.2623599208965063\n",
      "l:  0.2880685563612393\n",
      "s:  0.3750823994726434\n",
      "[0 6 8 7 5 1 2 3 4 9] (10,)\n",
      "ratio\n",
      "h:  0.6514221974344674\n",
      "l:  0.47518126045733405\n",
      "s:  0.6185164528722811\n",
      "[167 166 165 168 172 169 170 171 173 176 174 164 175 158] (14,)\n",
      "alt_filter_circles passed: 21\n",
      "ratio\n",
      "h:  0.7119314436387607\n",
      "l:  0.3012524719841793\n",
      "s:  0.2860909690177983\n",
      "[21 20 19 22 24 18 17 15 16 26 13 23 12 14 29 27 28 25 30] (19,)\n",
      "ratio\n",
      "h:  0.968358602504944\n",
      "l:  0.6282135794330916\n",
      "s:  0.6565589980224127\n",
      "[105 106 107 108 109 104 103 110 111 101 114 102  99  98  96 112] (16,)\n",
      "alt_filter_circles passed: 23\n",
      "ratio\n",
      "h:  0.9885057471264368\n",
      "l:  0.8995765275257108\n",
      "s:  0.9630973986690865\n",
      "[ 2  3  1  0  4  5  8 11  6] (9,)\n",
      "alt_filter_circles passed: 24\n",
      "ratio\n",
      "h:  0.9380355965721819\n",
      "l:  0.8609096901779829\n",
      "s:  0.8075148319050758\n",
      "[27 26 30 28 25 24 22 21 20 36 34 19 23 29 35] (15,)\n",
      "alt_filter_circles passed: 25\n",
      "ratio\n",
      "h:  0.971654581410679\n",
      "l:  0.9400131839156229\n",
      "s:  0.914963744232037\n",
      "[116 115 118 117 114 120 124 113 119 125 121 123 122 112 108 107] (16,)\n",
      "alt_filter_circles passed: 26\n",
      "ratio\n",
      "h:  0.7264337508239948\n",
      "l:  0.6433750823994726\n",
      "s:  0.34344100197758737\n",
      "[109 110 112 111 108 113 116 114 115 107 117 118 106 104] (14,)\n",
      "alt_filter_circles passed: 27\n",
      "ratio\n",
      "h:  0.7699406723796968\n",
      "l:  0.5537244561634805\n",
      "s:  0.7356624917600527\n",
      "[167 166 168 165 169 172 170 173 171 174 176 164 175] (13,)\n",
      "alt_filter_circles passed: 28\n",
      "ratio\n",
      "h:  0.6200846944948578\n",
      "l:  0.16636418632788869\n",
      "s:  0.35208711433756806\n",
      "[19 20 18 21 22 15 17 16 13 10 11 12 14 23 24 25 27 26] (18,)\n",
      "ratio\n",
      "h:  0.8252002913328478\n",
      "l:  0.23452294246176256\n",
      "s:  0.3372177713037145\n",
      "[21 20 22 19 23 18 17 24 25 13 16 15 12 29 27 28 30 26 14] (19,)\n",
      "ratio\n",
      "h:  0.5695557174071376\n",
      "l:  0.30517115804806993\n",
      "s:  0.16751638747268754\n",
      "[25 21 26 22 24 32 20 19 27 16 34 30 18 28 29 33 17 23] (18,)\n",
      "ratio\n",
      "h:  0.959789057350033\n",
      "l:  0.9551746868820039\n",
      "s:  0.5748187211601846\n",
      "[25 20 30 24 19 21 16 26 22 17 18 23 28 34 32] (15,)\n",
      "alt_filter_circles passed: 32\n",
      "ratio\n",
      "h:  0.9885057471264368\n",
      "l:  0.8995765275257108\n",
      "s:  0.9630973986690865\n",
      "[ 2  3  1  0  4  5  8 11  6] (9,)\n",
      "alt_filter_circles passed: 33\n",
      "ratio\n",
      "h:  0.9185722253206916\n",
      "l:  0.912994980479643\n",
      "s:  0.4891243725599554\n",
      "[112 111 110 109 113 114 108 120 116 115 107 119 106 103 121 118 117] (17,)\n",
      "alt_filter_circles passed: 34\n",
      "ratio\n",
      "h:  0.9165154264972777\n",
      "l:  0.8923169993950393\n",
      "s:  0.8566243194192378\n",
      "[116 115 117 118 114 119 125 120 122 124 113 123 111 121] (14,)\n",
      "alt_filter_circles passed: 35\n",
      "ratio\n",
      "h:  0.25468844525105866\n",
      "l:  0.27223230490018147\n",
      "s:  0.35571687840290384\n",
      "[0 6 8 1 2 4 7 3 5 9] (10,)\n",
      "ratio\n",
      "h:  0.7699406723796968\n",
      "l:  0.5537244561634805\n",
      "s:  0.7356624917600527\n",
      "[167 166 168 165 169 172 170 173 171 174 176 164 175] (13,)\n",
      "alt_filter_circles passed: 37\n",
      "ratio\n",
      "h:  0.7250418293363079\n",
      "l:  0.6068042387060792\n",
      "s:  0.3139988845510318\n",
      "[109 110 112 111 108 113 116 115 114 117 107 118 106 104] (14,)\n",
      "alt_filter_circles passed: 38\n",
      "ratio\n",
      "h:  0.40229885057471265\n",
      "l:  0.16394434361766486\n",
      "s:  0.18572292800967938\n",
      "[21 20 22 19 24 25 23 18 17 26 15 27 13 16 30 12 28 29 14] (19,)\n",
      "ratio\n",
      "h:  0.932993445010925\n",
      "l:  0.8914785142024764\n",
      "s:  0.7654770575382375\n",
      "[42 41 43 40 44 38 39 35 45 36 34 49 46 33 37 48 51 50] (18,)\n",
      "alt_filter_circles passed: 40\n",
      "ratio\n",
      "h:  0.964403427818062\n",
      "l:  0.958470665787739\n",
      "s:  0.5517468688200395\n",
      "[25 20 24 30 19 21 16 17 22 26 23 18 34] (13,)\n",
      "alt_filter_circles passed: 41\n",
      "ratio\n",
      "h:  0.9050211736237145\n",
      "l:  0.588626739261948\n",
      "s:  0.6116152450090744\n",
      "[105 106 107 108 109 104 103 110 101 111 102  98 112 114  99] (15,)\n",
      "alt_filter_circles passed: 42\n",
      "ratio\n",
      "h:  0.8477412158393753\n",
      "l:  0.7328499721137758\n",
      "s:  0.6915783602900167\n",
      "[27 26 25 30 28 20 24 36 21 22 18 34 19 35 29 23] (16,)\n",
      "alt_filter_circles passed: 43\n",
      "htlf dict dict_keys([0, 1, 2, 3, 4, 5, 6, 7, 8, 9, 10, 11, 12, 13, 14, 15, 16, 17, 18, 19, 20, 21, 22, 23, 24, 25, 26, 27, 28, 29, 30, 31, 32, 33])\n",
      "(1, 34, 3)\n"
     ]
    }
   ],
   "source": [
    "my_algorithm = CircleDetect(\n",
    "    list_of_params['real_path'], \n",
    "    detectFULL=list_of_params['detectFULL'], \n",
    "    cct= list_of_params['cct'], \n",
    "    range_type=list_of_params['range_type'], \n",
    "    arrayVersion=True,\n",
    "    minimumDist= list_of_params['minDist'], \n",
    "    parameter2=list_of_params['param2'], \n",
    "    minimumRadius= list_of_params['minRadius'], \n",
    "    maximumRadius=list_of_params['maxRadius'], \n",
    "    ptpthreshold=list_of_params['ptp'], \n",
    "    tolerance=list_of_params['tolerance'])"
   ]
  },
  {
   "cell_type": "markdown",
   "metadata": {},
   "source": [
    "Threshold"
   ]
  },
  {
   "cell_type": "code",
   "execution_count": 8,
   "metadata": {},
   "outputs": [],
   "source": [
    "# my_algorithm.threshold_img_otsu()"
   ]
  },
  {
   "cell_type": "markdown",
   "metadata": {},
   "source": [
    "show raw circles (all the circles detected by CircleDetect.detect_circles())"
   ]
  },
  {
   "cell_type": "code",
   "execution_count": 9,
   "metadata": {},
   "outputs": [],
   "source": [
    "# my_algorithm.show_raw_circles()"
   ]
  },
  {
   "cell_type": "code",
   "execution_count": 10,
   "metadata": {},
   "outputs": [],
   "source": [
    "# # circles[0][i][0], circles[0][i][1], circles[0][i][2]\n",
    "\n",
    "# n = 12\n",
    "# # my_algorithm.hls_visualizer(my_algorithm.circles[0][n][0], my_algorithm.circles[0][n][1], my_algorithm.circles[0][n][2], my_algorithm.img)\n",
    "# hc, lc, sc = my_algorithm.grab_big_groups(my_algorithm.circles[0][n][0], my_algorithm.circles[0][n][1], my_algorithm.circles[0][n][2], my_algorithm.img)\n",
    "# # my_algorithm.view_roc(my_algorithm.circles[0][n][0], my_algorithm.circles[0][n][1], my_algorithm.circles[0][n][2], my_algorithm.img)\n",
    "# my_algorithm.show_singular_circle(my_algorithm.circles[0][n][0], my_algorithm.circles[0][n][1], my_algorithm.circles[0][n][2])\n",
    "\n",
    "# print('done')\n",
    "# print(hc, lc, sc)\n"
   ]
  },
  {
   "cell_type": "markdown",
   "metadata": {},
   "source": [
    "show initial circles (circles that have passed the range/hls filter)"
   ]
  },
  {
   "cell_type": "code",
   "execution_count": 11,
   "metadata": {},
   "outputs": [],
   "source": [
    "my_algorithm.show_initial_circles()"
   ]
  },
  {
   "cell_type": "markdown",
   "metadata": {},
   "source": [
    "show filtered circles (circles that have been organized in terms of color and duplicate colored circles omitted based on color similarity to preset color values)"
   ]
  },
  {
   "cell_type": "code",
   "execution_count": 14,
   "metadata": {},
   "outputs": [
    {
     "name": "stdout",
     "output_type": "stream",
     "text": [
      "[[ 4  3  4  4  4  4 11]]\n",
      "['cyan', 'red', 'black', 'yellow', 'green', 'blue', 'magenta', 'black', 'black', 'cyan', 'blue', 'red', 'green', 'black', 'yellow', 'black', 'black', 'magenta', 'cyan', 'red', 'yellow', 'blue', 'black', 'magenta', 'black', 'red', 'black', 'blue', 'magenta', 'black', 'green', 'black', 'cyan', 'yellow']\n",
      "ifac [1.0286147338288563, 1.280424745261748, 7.248381300498802, 2.248720805121906, 6.298578565480656, 1.4446215287445825, 0.9745065052649244, 12.890778518372752, 17.937786088044096, 1.135955818132767, 2.057614688801835, 1.280424745261748, 6.298578565480656, 7.248381300498802, 2.1786977860492014, 17.98038451932304, 12.953221122319217, 1.3677408930684392, 1.135955818132767, 1.280424745261748, 2.248720805121906, 1.4446215287445825, 16.909850336259773, 0.9745065052649244, 3.0459775919310412, 1.280424745261748, 12.890778518372752, 1.3887406873090087, 0.9745065052649244, 16.661906693050078, 5.933545265549649, 3.1118237641807784, 1.4030622057509463, 6.529019359625241]\n",
      "red [1, 11, 19, 25]\n",
      "1.280424745261748\n",
      "1.280424745261748\n",
      "1.280424745261748\n",
      "1.280424745261748\n",
      "green [4, 12, 30]\n",
      "6.298578565480656\n",
      "6.298578565480656\n",
      "5.933545265549649\n",
      "blue [5, 10, 21, 27]\n",
      "1.4446215287445825\n",
      "2.057614688801835\n",
      "1.4446215287445825\n",
      "1.3887406873090087\n",
      "cyan [0, 9, 18, 32]\n",
      "1.0286147338288563\n",
      "1.135955818132767\n",
      "1.135955818132767\n",
      "1.4030622057509463\n",
      "magenta [6, 17, 23, 28]\n",
      "0.9745065052649244\n",
      "1.3677408930684392\n",
      "0.9745065052649244\n",
      "0.9745065052649244\n",
      "yellow [3, 14, 20, 33]\n",
      "2.248720805121906\n",
      "2.1786977860492014\n",
      "2.248720805121906\n",
      "6.529019359625241\n",
      "black [2, 7, 8, 13, 15, 16, 22, 24, 26, 29, 31]\n",
      "7.248381300498802\n",
      "12.890778518372752\n",
      "17.937786088044096\n",
      "7.248381300498802\n",
      "17.98038451932304\n",
      "12.953221122319217\n",
      "16.909850336259773\n",
      "3.0459775919310412\n",
      "12.890778518372752\n",
      "16.661906693050078\n",
      "3.1118237641807784\n",
      "\n",
      "\n",
      "['red', 'green', 'blue', 'cyan', 'magenta', 'yellow', 'black']\n",
      "[[[522 332  23]\n",
      "  [162 722  21]\n",
      "  [376 248  23]\n",
      "  [176 372  22]\n",
      "  [186 464  22]\n",
      "  [312 572  22]\n",
      "  [222 216  22]]]\n",
      "\n",
      "\n",
      "['red', 'green', 'blue', 'cyan', 'magenta', 'yellow', 'black']\n"
     ]
    }
   ],
   "source": [
    "# for file in list:\n",
    "#     CircleDetect(path+file).vectorize()\n",
    "\n",
    "# ¿Forma elíptica y colores similares? ¡No hay problema!\n",
    "\n",
    "my_algorithm.show_filtered_circles()\n"
   ]
  },
  {
   "cell_type": "markdown",
   "metadata": {},
   "source": [
    "show img (show image with processed circles and vector visualization)"
   ]
  },
  {
   "cell_type": "code",
   "execution_count": 15,
   "metadata": {},
   "outputs": [
    {
     "name": "stdout",
     "output_type": "stream",
     "text": [
      "[[ 4  3  4  4  4  4 11]]\n",
      "['cyan', 'red', 'black', 'yellow', 'green', 'blue', 'magenta', 'black', 'black', 'cyan', 'blue', 'red', 'green', 'black', 'yellow', 'black', 'black', 'magenta', 'cyan', 'red', 'yellow', 'blue', 'black', 'magenta', 'black', 'red', 'black', 'blue', 'magenta', 'black', 'green', 'black', 'cyan', 'yellow']\n",
      "ifac [1.0286147338288563, 1.280424745261748, 7.248381300498802, 2.248720805121906, 6.298578565480656, 1.4446215287445825, 0.9745065052649244, 12.890778518372752, 17.937786088044096, 1.135955818132767, 2.057614688801835, 1.280424745261748, 6.298578565480656, 7.248381300498802, 2.1786977860492014, 17.98038451932304, 12.953221122319217, 1.3677408930684392, 1.135955818132767, 1.280424745261748, 2.248720805121906, 1.4446215287445825, 16.909850336259773, 0.9745065052649244, 3.0459775919310412, 1.280424745261748, 12.890778518372752, 1.3887406873090087, 0.9745065052649244, 16.661906693050078, 5.933545265549649, 3.1118237641807784, 1.4030622057509463, 6.529019359625241]\n",
      "red [1, 11, 19, 25]\n",
      "1.280424745261748\n",
      "1.280424745261748\n",
      "1.280424745261748\n",
      "1.280424745261748\n",
      "green [4, 12, 30]\n",
      "6.298578565480656\n",
      "6.298578565480656\n",
      "5.933545265549649\n",
      "blue [5, 10, 21, 27]\n",
      "1.4446215287445825\n",
      "2.057614688801835\n",
      "1.4446215287445825\n",
      "1.3887406873090087\n",
      "cyan [0, 9, 18, 32]\n",
      "1.0286147338288563\n",
      "1.135955818132767\n",
      "1.135955818132767\n",
      "1.4030622057509463\n",
      "magenta [6, 17, 23, 28]\n",
      "0.9745065052649244\n",
      "1.3677408930684392\n",
      "0.9745065052649244\n",
      "0.9745065052649244\n",
      "yellow [3, 14, 20, 33]\n",
      "2.248720805121906\n",
      "2.1786977860492014\n",
      "2.248720805121906\n",
      "6.529019359625241\n",
      "black [2, 7, 8, 13, 15, 16, 22, 24, 26, 29, 31]\n",
      "7.248381300498802\n",
      "12.890778518372752\n",
      "17.937786088044096\n",
      "7.248381300498802\n",
      "17.98038451932304\n",
      "12.953221122319217\n",
      "16.909850336259773\n",
      "3.0459775919310412\n",
      "12.890778518372752\n",
      "16.661906693050078\n",
      "3.1118237641807784\n",
      "\n",
      "\n",
      "['red', 'green', 'blue', 'cyan', 'magenta', 'yellow', 'black']\n",
      "[[[522 332  23]\n",
      "  [162 722  21]\n",
      "  [376 248  23]\n",
      "  [176 372  22]\n",
      "  [186 464  22]\n",
      "  [312 572  22]\n",
      "  [222 216  22]]]\n"
     ]
    }
   ],
   "source": [
    "vfront, vback = my_algorithm.show_processed_image()"
   ]
  },
  {
   "cell_type": "code",
   "execution_count": 16,
   "metadata": {},
   "outputs": [
    {
     "name": "stdout",
     "output_type": "stream",
     "text": [
      "[[  90  356]\n",
      " [ 210 -240]\n",
      " [-146  -84]]\n",
      "[[ -60  506]\n",
      " [  24 -258]\n",
      " [ -10  -92]]\n"
     ]
    }
   ],
   "source": [
    "print(vfront)\n",
    "print(vback)"
   ]
  },
  {
   "cell_type": "markdown",
   "metadata": {},
   "source": [
    "vectorize (return vector values without showing image)"
   ]
  },
  {
   "cell_type": "code",
   "execution_count": null,
   "metadata": {},
   "outputs": [],
   "source": [
    "front, back = my_algorithm.vectorize()"
   ]
  },
  {
   "cell_type": "code",
   "execution_count": null,
   "metadata": {},
   "outputs": [],
   "source": [
    "print(front)"
   ]
  },
  {
   "cell_type": "code",
   "execution_count": null,
   "metadata": {},
   "outputs": [],
   "source": [
    "print(back)"
   ]
  },
  {
   "cell_type": "code",
   "execution_count": null,
   "metadata": {},
   "outputs": [],
   "source": []
  }
 ],
 "metadata": {
  "kernelspec": {
   "display_name": "python-wayang",
   "language": "python",
   "name": "python3"
  },
  "language_info": {
   "codemirror_mode": {
    "name": "ipython",
    "version": 3
   },
   "file_extension": ".py",
   "mimetype": "text/x-python",
   "name": "python",
   "nbconvert_exporter": "python",
   "pygments_lexer": "ipython3",
   "version": "3.6.6"
  }
 },
 "nbformat": 4,
 "nbformat_minor": 2
}
