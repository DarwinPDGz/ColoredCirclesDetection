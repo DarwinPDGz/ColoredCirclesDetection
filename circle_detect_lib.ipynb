{
 "cells": [
  {
   "cell_type": "code",
   "execution_count": 1,
   "metadata": {},
   "outputs": [],
   "source": [
    "from circledetect import CircleDetect\n",
    "import os"
   ]
  },
  {
   "cell_type": "code",
   "execution_count": 2,
   "metadata": {},
   "outputs": [],
   "source": [
    "# path = 'c:/Users/Darwin/Documents/Wayang_related/imgprocessing/colored_grid_small.jpg'\n",
    "path = 'c:/Users/Darwin/Documents/Wayang_related/imgprocessing/sita_initial_wflash/'\n",
    "\n",
    "list = os.listdir(path)"
   ]
  },
  {
   "cell_type": "code",
   "execution_count": 3,
   "metadata": {},
   "outputs": [
    {
     "data": {
      "text/plain": [
       "list"
      ]
     },
     "execution_count": 3,
     "metadata": {},
     "output_type": "execute_result"
    }
   ],
   "source": [
    "type(list)"
   ]
  },
  {
   "cell_type": "code",
   "execution_count": 4,
   "metadata": {},
   "outputs": [
    {
     "data": {
      "text/plain": [
       "['sita1.jpg',\n",
       " 'sita10.jpg',\n",
       " 'sita11.jpg',\n",
       " 'sita12.jpg',\n",
       " 'sita13.jpg',\n",
       " 'sita2.jpg',\n",
       " 'sita3.jpg',\n",
       " 'sita4.jpg',\n",
       " 'sita5.jpg',\n",
       " 'sita6.jpg',\n",
       " 'sita7.jpg',\n",
       " 'sita8.jpg',\n",
       " 'sita9.jpg']"
      ]
     },
     "execution_count": 4,
     "metadata": {},
     "output_type": "execute_result"
    }
   ],
   "source": [
    "list"
   ]
  },
  {
   "cell_type": "code",
   "execution_count": 5,
   "metadata": {},
   "outputs": [],
   "source": [
    "real_path =[]\n",
    "for i in range(len(list)):\n",
    "    real_path.append(path + list[i])"
   ]
  },
  {
   "cell_type": "code",
   "execution_count": 6,
   "metadata": {},
   "outputs": [],
   "source": [
    "list_of_params = {\n",
    "    'real_path': real_path[4],\n",
    "    'minDist': 50,\n",
    "    'param1': 70,\n",
    "    'param2': 15,\n",
    "    'minRadius': 12,\n",
    "    'maxRadius': 18,\n",
    "    'ptp': 127,\n",
    "    'tolerance': 5,\n",
    "    'detectFULL': True,\n",
    "    'cct': 2,\n",
    "    'range_type': 2\n",
    "}"
   ]
  },
  {
   "cell_type": "markdown",
   "metadata": {},
   "source": [
    "Threshold"
   ]
  },
  {
   "cell_type": "code",
   "execution_count": 7,
   "metadata": {},
   "outputs": [
    {
     "name": "stdout",
     "output_type": "stream",
     "text": [
      "3\n",
      "5\n",
      "6\n",
      "7\n",
      "9\n",
      "10\n",
      "11\n",
      "13\n",
      "14\n",
      "15\n",
      "16\n",
      "20\n",
      "22\n",
      "23\n",
      "25\n",
      "26\n",
      "30\n",
      "32\n",
      "34\n",
      "36\n",
      "37\n",
      "38\n",
      "43\n",
      "48\n",
      "50\n",
      "51\n",
      "52\n",
      "(1, 26, 3)\n"
     ]
    }
   ],
   "source": [
    "CircleDetect(\n",
    "    list_of_params['real_path'],\n",
    "    detectFULL=list_of_params['detectFULL'],\n",
    "    cct= list_of_params['cct'], \n",
    "    range_type=list_of_params['range_type'], \n",
    "    minimumDist= list_of_params['minDist'], \n",
    "    parameter2=list_of_params['param2'],\n",
    "    minimumRadius= list_of_params['minRadius'], \n",
    "    maximumRadius=list_of_params['maxRadius'], \n",
    "    ptpthreshold=list_of_params['ptp'], \n",
    "    tolerance=list_of_params['tolerance']).threshold_img()"
   ]
  },
  {
   "cell_type": "markdown",
   "metadata": {},
   "source": [
    "show raw circles"
   ]
  },
  {
   "cell_type": "code",
   "execution_count": 8,
   "metadata": {},
   "outputs": [],
   "source": [
    "# CircleDetect(real_path,detectFULL=True,cct= list_of_params['cct'] , minimumDist= list_of_params['minDist'], parameter2=list_of_params['param2'] ,minimumRadius= list_of_params['minRadius'], maximumRadius=list_of_params['maxRadius'], ptpthreshold=list_of_params['ptp'], tolerance=list_of_params['tolerance']).show_raw_circles(isgray=True)"
   ]
  },
  {
   "cell_type": "markdown",
   "metadata": {},
   "source": [
    "show initial circles"
   ]
  },
  {
   "cell_type": "code",
   "execution_count": 9,
   "metadata": {},
   "outputs": [
    {
     "name": "stdout",
     "output_type": "stream",
     "text": [
      "4\n",
      "11\n",
      "15\n",
      "(1, 14, 3)\n"
     ]
    }
   ],
   "source": [
    "CircleDetect(\n",
    "    list_of_params['real_path'],\n",
    "    detectFULL=list_of_params['detectFULL'],\n",
    "    cct= list_of_params['cct'], \n",
    "    range_type=list_of_params['range_type'], \n",
    "    minimumDist= list_of_params['minDist'], \n",
    "    parameter2=list_of_params['param2'],\n",
    "    minimumRadius= list_of_params['minRadius'], \n",
    "    maximumRadius=list_of_params['maxRadius'], \n",
    "    ptpthreshold=list_of_params['ptp'], \n",
    "    tolerance=list_of_params['tolerance']).show_initial_circles(isgray=True)"
   ]
  },
  {
   "cell_type": "markdown",
   "metadata": {},
   "source": [
    "show filtered circles"
   ]
  },
  {
   "cell_type": "code",
   "execution_count": null,
   "metadata": {},
   "outputs": [],
   "source": [
    "# for file in list:\n",
    "#     CircleDetect(path+file).vectorize()\n",
    "\n",
    "CircleDetect(\n",
    "    list_of_params['real_path'],\n",
    "    detectFULL=list_of_params['detectFULL'],\n",
    "    cct= list_of_params['cct'], \n",
    "    range_type=list_of_params['range_type'], \n",
    "    minimumDist= list_of_params['minDist'], \n",
    "    parameter2=list_of_params['param2'],\n",
    "    minimumRadius= list_of_params['minRadius'], \n",
    "    maximumRadius=list_of_params['maxRadius'], \n",
    "    ptpthreshold=list_of_params['ptp'], \n",
    "    tolerance=list_of_params['tolerance']).show_filtered_circles(isgray=True)\n"
   ]
  },
  {
   "cell_type": "markdown",
   "metadata": {},
   "source": [
    "show img (processed)"
   ]
  },
  {
   "cell_type": "code",
   "execution_count": null,
   "metadata": {},
   "outputs": [
    {
     "name": "stdout",
     "output_type": "stream",
     "text": [
      "3\n",
      "5\n",
      "6\n",
      "7\n",
      "9\n",
      "10\n",
      "11\n",
      "13\n",
      "14\n",
      "15\n",
      "16\n",
      "20\n",
      "22\n",
      "23\n",
      "25\n",
      "26\n",
      "30\n",
      "32\n",
      "34\n",
      "36\n",
      "37\n",
      "38\n",
      "43\n",
      "48\n",
      "50\n",
      "51\n",
      "52\n",
      "(1, 26, 3)\n",
      "dE94\n",
      "[[[182 160  15]\n",
      "  [298 694  14]\n",
      "  [302 224  16]\n",
      "  [164 648  15]\n",
      "  [308 394  14]\n",
      "  [184 160  17]\n",
      "  [298 694  15]\n",
      "  [164 648  15]\n",
      "  [208 254  14]\n",
      "  [ 74 286  14]\n",
      "  [290 642  14]\n",
      "  [310 396  13]\n",
      "  [182 160  15]\n",
      "  [298 694  14]\n",
      "  [302 224  16]\n",
      "  [164 648  15]\n",
      "  [308 396  15]\n",
      "  [244 646  13]\n",
      "  [302 224  15]\n",
      "  [180 158  15]\n",
      "  [298 694  15]\n",
      "  [244 646  13]\n",
      "  [194 328  15]\n",
      "  [ 72 284  16]\n",
      "  [164 650  14]\n",
      "  [308 396  15]]]\n",
      "(1, 26, 3)\n",
      "[[4 4 3 3 3 4 5]]\n",
      "['black', 'yellow', 'blue', 'green', 'red', 'black', 'yellow', 'green', 'cyan', 'cyan', 'black', 'red', 'black', 'yellow', 'blue', 'green', 'red', 'magenta', 'blue', 'black', 'yellow', 'magenta', 'magenta', 'cyan', 'green', 'red']\n",
      "ifac [5.1969164705527895, 4.803677112209959, 7.122727842051699, 7.19390600489273, 17.88782214613828, 5.380592819685438, 4.7747691115433, 7.19390600489273, 29.765999079295185, 2.6073669203824594, 5.294672837787653, 17.775316169510305, 5.1969164705527895, 4.803677112209959, 7.122727842051699, 7.19390600489273, 17.72721678780611, 33.312166756260375, 6.844137323183744, 4.835583433636681, 4.7747691115433, 33.312166756260375, 4.349339325712451, 3.274269736661103, 7.132917913221819, 17.72721678780611]\n",
      "red [4, 11, 16, 25]\n",
      "17.88782214613828\n",
      "17.775316169510305\n",
      "17.72721678780611\n",
      "17.72721678780611\n",
      "green [3, 7, 15, 24]\n",
      "7.19390600489273\n",
      "7.19390600489273\n",
      "7.19390600489273\n",
      "7.132917913221819\n",
      "blue [2, 14, 18]\n",
      "7.122727842051699\n",
      "7.122727842051699\n",
      "6.844137323183744\n",
      "cyan [8, 9, 23]\n",
      "29.765999079295185\n",
      "2.6073669203824594\n",
      "3.274269736661103\n",
      "magenta [17, 21, 22]\n",
      "33.312166756260375\n",
      "33.312166756260375\n",
      "4.349339325712451\n",
      "yellow [1, 6, 13, 20]\n",
      "4.803677112209959\n",
      "4.7747691115433\n",
      "4.803677112209959\n",
      "4.7747691115433\n",
      "black [0, 5, 10, 12, 19]\n",
      "5.1969164705527895\n",
      "5.380592819685438\n",
      "5.294672837787653\n",
      "5.1969164705527895\n",
      "4.835583433636681\n",
      "\n",
      "\n",
      "['red', 'green', 'blue', 'cyan', 'magenta', 'yellow', 'black']\n",
      "[[[308 396  15]\n",
      "  [164 650  14]\n",
      "  [302 224  15]\n",
      "  [ 74 286  14]\n",
      "  [194 328  15]\n",
      "  [298 694  15]\n",
      "  [180 158  15]]]\n"
     ]
    }
   ],
   "source": [
    "CircleDetect(\n",
    "    list_of_params['real_path'],\n",
    "    detectFULL=list_of_params['detectFULL'],\n",
    "    cct= list_of_params['cct'], \n",
    "    range_type=list_of_params['range_type'], \n",
    "    minimumDist= list_of_params['minDist'], \n",
    "    parameter2=list_of_params['param2'],\n",
    "    minimumRadius= list_of_params['minRadius'], \n",
    "    maximumRadius=list_of_params['maxRadius'], \n",
    "    ptpthreshold=list_of_params['ptp'], \n",
    "    tolerance=list_of_params['tolerance']).show_processed_image()"
   ]
  },
  {
   "cell_type": "markdown",
   "metadata": {},
   "source": [
    "vectorize"
   ]
  },
  {
   "cell_type": "code",
   "execution_count": null,
   "metadata": {},
   "outputs": [],
   "source": [
    "front, back = CircleDetect(list_of_params['real_path'],detectFULL=list_of_params['detectFULL'], cct= list_of_params['cct'] , minimumDist= list_of_params['minDist'], parameter1 = list_of_params['param1'], parameter2=list_of_params['param2'] ,minimumRadius= list_of_params['minRadius'], maximumRadius=list_of_params['maxRadius'], ptpthreshold=list_of_params['ptp'],tolerance=list_of_params['tolerance']).vectorize()"
   ]
  },
  {
   "cell_type": "code",
   "execution_count": null,
   "metadata": {},
   "outputs": [],
   "source": [
    "print(front)"
   ]
  },
  {
   "cell_type": "code",
   "execution_count": null,
   "metadata": {},
   "outputs": [],
   "source": [
    "print(back)"
   ]
  },
  {
   "cell_type": "code",
   "execution_count": null,
   "metadata": {},
   "outputs": [],
   "source": []
  }
 ],
 "metadata": {
  "kernelspec": {
   "display_name": "python-wayang",
   "language": "python",
   "name": "python3"
  },
  "language_info": {
   "codemirror_mode": {
    "name": "ipython",
    "version": 3
   },
   "file_extension": ".py",
   "mimetype": "text/x-python",
   "name": "python",
   "nbconvert_exporter": "python",
   "pygments_lexer": "ipython3",
   "version": "3.6.6"
  }
 },
 "nbformat": 4,
 "nbformat_minor": 2
}
