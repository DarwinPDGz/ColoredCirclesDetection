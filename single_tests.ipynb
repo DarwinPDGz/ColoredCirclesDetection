{
 "cells": [
  {
   "cell_type": "code",
   "execution_count": 1,
   "metadata": {},
   "outputs": [],
   "source": [
    "from circledetectexperimental import CircleDetect, CircleDetectInstance\n",
    "import os"
   ]
  },
  {
   "cell_type": "code",
   "execution_count": 2,
   "metadata": {},
   "outputs": [
    {
     "name": "stdout",
     "output_type": "stream",
     "text": [
      "['c:/Users/Darwin/Documents/Wayang_related/imgprocessing/hanuman/df/']\n"
     ]
    }
   ],
   "source": [
    "path = []\n",
    "\n",
    "# path.append('c:/Users/Darwin/Documents/Wayang_related/imgprocessing/sita_initial_wflash/threequarters/pts/')\n",
    "# path.append('c:/Users/Darwin/Documents/Wayang_related/imgprocessing/rama/pts/')\n",
    "path.append('c:/Users/Darwin/Documents/Wayang_related/imgprocessing/hanuman/df/')\n",
    "\n",
    "\n",
    "print(path)"
   ]
  },
  {
   "cell_type": "code",
   "execution_count": 3,
   "metadata": {},
   "outputs": [],
   "source": [
    "dict_of_dirs = {}\n",
    "\n",
    "for i in range(len(path)):\n",
    "    list = os.listdir(path[i])\n",
    "    dict_of_dirs[i] = list"
   ]
  },
  {
   "cell_type": "code",
   "execution_count": 4,
   "metadata": {},
   "outputs": [],
   "source": [
    "dict_of_real_paths = {}\n",
    "\n",
    "for i in range(len(path)):\n",
    "    real_path = []\n",
    "    for j in range(len(dict_of_dirs[i])):\n",
    "        real_path.append(path[i] + dict_of_dirs[i][j])\n",
    "    dict_of_real_paths[i] = real_path"
   ]
  },
  {
   "cell_type": "code",
   "execution_count": 5,
   "metadata": {},
   "outputs": [
    {
     "data": {
      "text/plain": [
       "'c:/Users/Darwin/Documents/Wayang_related/imgprocessing/hanuman/df/20241113_125108360_iOS.jpg'"
      ]
     },
     "execution_count": 5,
     "metadata": {},
     "output_type": "execute_result"
    }
   ],
   "source": [
    "dict_of_real_paths[0][0]"
   ]
  },
  {
   "cell_type": "code",
   "execution_count": 6,
   "metadata": {},
   "outputs": [
    {
     "name": "stderr",
     "output_type": "stream",
     "text": [
      "c:\\Users\\Darwin\\Documents\\cvwp\\CCD\\circledetectexperimental.py:292: RuntimeWarning: invalid value encountered in true_divide\n",
      "  imgc = ((1 - bgrfloat[:,:,2] - imgk)/(1 - imgk))*255\n",
      "c:\\Users\\Darwin\\Documents\\cvwp\\CCD\\circledetectexperimental.py:293: RuntimeWarning: invalid value encountered in true_divide\n",
      "  imgm = ((1 - bgrfloat[:,:,1] - imgk)/(1 - imgk))*255\n",
      "c:\\Users\\Darwin\\Documents\\cvwp\\CCD\\circledetectexperimental.py:294: RuntimeWarning: invalid value encountered in true_divide\n",
      "  imgy = ((1 - bgrfloat[:,:,0] - imgk)/(1 - imgk))*255\n"
     ]
    },
    {
     "name": "stdout",
     "output_type": "stream",
     "text": [
      "detectFULL\n",
      "(1, 30, 3)\n",
      "radius list [16 17 17 17 19 19 20 20 20 20 20 20 20 20 20 20 20 21 21 21 22 22 22 22\n",
      " 22 23 23 24 24 25]\n",
      "radius mode [16, 17, 19, 20, 21, 22, 23, 24, 25]\n",
      "radius counter [1, 3, 2, 11, 3, 5, 2, 2, 1]\n",
      "which radius mode 20 22\n",
      "minmode:  18\n",
      "maxmode:  24\n",
      "re_parameter2 (done, setting radius):  30\n",
      "re_minimumRadius:  18\n",
      "re_maximumRadius:  24\n",
      "detectFULL\n",
      "(1, 19, 3)\n",
      "ratio\n",
      "h:  0.4151493080844865\n",
      "l:  0.7938820101966497\n",
      "s:  0.8215586307356154\n",
      "[20 19 22 21 18] (5,)\n",
      "alt_filter_circles passed: 0\n",
      "ratio\n",
      "h:  0.9956300072833212\n",
      "l:  0.46249089584850694\n",
      "s:  0.6081573197378004\n",
      "[26 27 25 28 24] (5,)\n",
      "alt_filter_circles passed: 1\n",
      "ratio\n",
      "h:  1.0\n",
      "l:  0.461034231609614\n",
      "s:  0.5826656955571741\n",
      "[26 27 25 28 24] (5,)\n",
      "alt_filter_circles passed: 2\n",
      "ratio\n",
      "h:  0.4357838795394154\n",
      "l:  0.9007971656333038\n",
      "s:  0.9202834366696191\n",
      "[20 19 18 21 22] (5,)\n",
      "alt_filter_circles passed: 3\n",
      "ratio\n",
      "h:  1.0\n",
      "l:  0.461034231609614\n",
      "s:  0.5826656955571741\n",
      "[26 27 25 28 24] (5,)\n",
      "alt_filter_circles passed: 4\n",
      "ratio\n",
      "h:  0.4151493080844865\n",
      "l:  0.7938820101966497\n",
      "s:  0.8215586307356154\n",
      "[20 19 22 21 18] (5,)\n",
      "alt_filter_circles passed: 5\n",
      "ratio\n",
      "h:  0.9628550619082301\n",
      "l:  0.5833940276766205\n",
      "s:  0.9235251274581209\n",
      "[106 107 105 108 104] (5,)\n",
      "alt_filter_circles passed: 6\n",
      "ratio\n",
      "h:  1.0\n",
      "l:  0.461034231609614\n",
      "s:  0.5826656955571741\n",
      "[26 27 25 28 24] (5,)\n",
      "alt_filter_circles passed: 7\n",
      "ratio\n",
      "h:  0.40731901352426414\n",
      "l:  0.8488464598249801\n",
      "s:  0.8949880668257757\n",
      "[20 19 21 22 18] (5,)\n",
      "alt_filter_circles passed: 8\n",
      "ratio\n",
      "h:  0.9628550619082301\n",
      "l:  0.5797523670793882\n",
      "s:  0.9176984705025492\n",
      "[106 107 105 108 104] (5,)\n",
      "alt_filter_circles passed: 9\n",
      "ratio\n",
      "h:  0.9813994685562445\n",
      "l:  0.7643932683790965\n",
      "s:  0.8689105403011514\n",
      "[116 115 117 118 114] (5,)\n",
      "alt_filter_circles passed: 10\n",
      "ratio\n",
      "h:  0.863961813842482\n",
      "l:  0.6308671439936356\n",
      "s:  0.8814638027048528\n",
      "[44 43 42] (3,)\n",
      "alt_filter_circles passed: 11\n",
      "ratio\n",
      "h:  0.9011206328279499\n",
      "l:  0.5346077785102176\n",
      "s:  0.8576137112722478\n",
      "[106 107 105 108 104] (5,)\n",
      "alt_filter_circles passed: 12\n",
      "ratio\n",
      "h:  0.9236276849642004\n",
      "l:  0.7048528241845664\n",
      "s:  0.7971360381861575\n",
      "[116 115 117 118 114] (5,)\n",
      "alt_filter_circles passed: 13\n",
      "ratio\n",
      "h:  0.988134475939354\n",
      "l:  0.43111404087013844\n",
      "s:  0.5662491760052736\n",
      "[26 27 25 24 28] (5,)\n",
      "alt_filter_circles passed: 14\n",
      "ratio\n",
      "h:  0.9268098647573588\n",
      "l:  0.7064439140811456\n",
      "s:  0.7923627684964201\n",
      "[116 115 117 118 114] (5,)\n",
      "alt_filter_circles passed: 15\n",
      "ratio\n",
      "h:  0.9628550619082301\n",
      "l:  0.5833940276766205\n",
      "s:  0.9235251274581209\n",
      "[106 107 105 108 104] (5,)\n",
      "alt_filter_circles passed: 16\n",
      "ratio\n",
      "h:  0.40731901352426414\n",
      "l:  0.8488464598249801\n",
      "s:  0.8949880668257757\n",
      "[20 19 21 22 18] (5,)\n",
      "alt_filter_circles passed: 17\n",
      "ratio\n",
      "h:  0.9956300072833212\n",
      "l:  0.46249089584850694\n",
      "s:  0.6081573197378004\n",
      "[26 27 25 28 24] (5,)\n",
      "alt_filter_circles passed: 18\n",
      "htlf dict dict_keys([0, 1, 2, 3, 4, 5, 6, 7, 8, 9, 10, 11, 12, 13, 14, 15, 16, 17, 18])\n",
      "(1, 19, 3)\n",
      "94.45732920660367 79.25601689244117 14.011580679096689 47.41414906347643 73.25262980467078 101.56627622961905 17.094744772614057 blue 0\n",
      "13.685963337161214 42.415964635726546 111.28844166665972 81.88320054670461 35.09720998340275 7.625550792176249 124.07869992048735 yellow 1\n",
      "14.424439393049855 43.20634550368631 112.12658459468602 82.72668170272478 35.93983574925594 8.17505655760452 124.8817482194673 yellow 2\n",
      "108.7742387446128 94.71726870178222 22.721674290685293 61.907146230825774 88.1165037216294 115.82207833235971 2.2196903348656685 black 3\n",
      "14.424439393049855 43.20634550368631 112.12658459468602 82.72668170272478 35.93983574925594 8.17505655760452 124.8817482194673 yellow 4\n",
      "94.45732920660367 79.25601689244117 14.011580679096689 47.41414906347643 73.25262980467078 101.56627622961905 17.094744772614057 blue 5\n",
      "70.8617519121618 42.37325994184905 39.51981582851649 2.630087818577447 48.04117526621991 77.63119793648771 61.01465375993624 cyan 6\n",
      "14.424439393049855 43.20634550368631 112.12658459468602 82.72668170272478 35.93983574925594 8.17505655760452 124.8817482194673 yellow 7\n",
      "106.09885467941761 91.8040694088676 20.379293162771624 59.0879809435009 85.33179066633011 113.16006260231352 4.702659166306957 black 8\n",
      "71.57400730783225 43.47734671859151 38.16342785261656 3.6678698204354365 48.68944854640983 78.37864853671272 59.66711135896702 cyan 9\n",
      "99.46576645504122 79.98601712593074 2.3647968805902986 43.19751012199196 77.2262377359472 106.62846075203791 20.913379273376236 blue 10\n",
      "41.39306076909974 17.73062030711981 61.955081869359795 30.22937302425885 18.96371392882425 48.10724495006519 78.8722485592403 green 11\n",
      "71.13090131840686 42.821004650615606 38.94169970359119 3.067241391417245 48.280581012243566 77.91632698481905 60.43329231045282 cyan 12\n",
      "99.24896336682984 79.75323586775357 2.215158669780654 42.97610089532323 77.00399019717504 106.41171472913969 21.089722456642203 blue 13\n",
      "12.605136347596899 41.00111048121183 109.91807721148393 80.43236628087605 33.712950783378055 7.044261076568197 122.80589572226089 yellow 14\n",
      "98.77543981796624 79.2003043166855 1.8205187121261996 42.40749738458568 76.50925522590245 105.93836197485521 21.595421336283486 blue 15\n",
      "70.8617519121618 42.37325994184905 39.51981582851649 2.630087818577447 48.04117526621991 77.63119793648771 61.01465375993624 cyan 16\n",
      "106.09885467941761 91.8040694088676 20.379293162771624 59.0879809435009 85.33179066633011 113.16006260231352 4.702659166306957 black 17\n",
      "13.685963337161214 42.415964635726546 111.28844166665972 81.88320054670461 35.09720998340275 7.625550792176249 124.07869992048735 yellow 18\n",
      "[[0 1 5 4 0 6 3]]\n",
      "['blue', 'yellow', 'yellow', 'black', 'yellow', 'blue', 'cyan', 'yellow', 'black', 'cyan', 'blue', 'green', 'cyan', 'blue', 'yellow', 'blue', 'cyan', 'black', 'yellow']\n",
      "ifac [14.011580679096689, 7.625550792176249, 8.17505655760452, 2.2196903348656685, 8.17505655760452, 14.011580679096689, 2.630087818577447, 8.17505655760452, 4.702659166306957, 3.6678698204354365, 2.3647968805902986, 17.73062030711981, 3.067241391417245, 2.215158669780654, 7.044261076568197, 1.8205187121261996, 2.630087818577447, 4.702659166306957, 7.625550792176249]\n",
      "red []\n",
      "green [11]\n",
      "17.73062030711981\n",
      "blue [0, 5, 10, 13, 15]\n",
      "14.011580679096689\n",
      "14.011580679096689\n",
      "2.3647968805902986\n",
      "2.215158669780654\n",
      "1.8205187121261996\n",
      "cyan [6, 9, 12, 16]\n",
      "2.630087818577447\n",
      "3.6678698204354365\n",
      "3.067241391417245\n",
      "2.630087818577447\n",
      "magenta []\n",
      "yellow [1, 2, 4, 7, 14, 18]\n",
      "7.625550792176249\n",
      "8.17505655760452\n",
      "8.17505655760452\n",
      "8.17505655760452\n",
      "7.044261076568197\n",
      "7.625550792176249\n",
      "black [3, 8, 17]\n",
      "2.2196903348656685\n",
      "4.702659166306957\n",
      "4.702659166306957\n",
      "[0, 4]\n",
      "\n",
      "\n",
      "['green', 'blue', 'cyan', 'yellow', 'black']\n",
      "[[[238 394  20]\n",
      "  [244 336  20]\n",
      "  [476 614  21]\n",
      "  [300 706  22]\n",
      "  [352 178  20]]]\n",
      "green green\n",
      "blue blue\n",
      "yellow yellow\n",
      "black black\n",
      "re_parameter2 (done, instance is autoparamed):  30\n"
     ]
    }
   ],
   "source": [
    "first_list_of_params = {\n",
    "    'real_path': dict_of_real_paths[0][0],\n",
    "    'minDist': 15,\n",
    "    'param1': 70,\n",
    "    'param2': 15,\n",
    "    'minRadius': 19,\n",
    "    'maxRadius': 29,\n",
    "    'ptp': 80,\n",
    "    'tolerance': 8,\n",
    "    'detectFULL': True,\n",
    "    'cct': 2,\n",
    "    'range_type': 2,\n",
    "    'set_order_f':CircleDetect.SET_ORDER_F_HANUMAN,\n",
    "    'set_order_b':CircleDetect.SET_ORDER_B_HANUMAN,\n",
    "    'arrayVersion': 2}\n",
    "\n",
    "first_instance = CircleDetectInstance(\n",
    "    first_list_of_params['real_path'],\n",
    "    cct=first_list_of_params['cct'], \n",
    "    detectFULL=first_list_of_params['detectFULL'],\n",
    "    range_type=first_list_of_params['range_type'], \n",
    "    set_order_f=first_list_of_params['set_order_f'], \n",
    "    set_order_b=first_list_of_params['set_order_b'], \n",
    "    arrayVersion=first_list_of_params['arrayVersion'], autoparam=True, debug=False, single=True, isfront=True)"
   ]
  },
  {
   "cell_type": "code",
   "execution_count": 7,
   "metadata": {},
   "outputs": [
    {
     "name": "stdout",
     "output_type": "stream",
     "text": [
      "set_param2:  30\n",
      "set_minRadius:  18\n",
      "set_maxRadius:  24\n"
     ]
    }
   ],
   "source": [
    "#check autoparam params\n",
    "\n",
    "set_param2 = first_instance.re_parameter2\n",
    "set_minRadius = first_instance.minimumRadius\n",
    "set_maxRadius = first_instance.maximumRadius\n",
    "\n",
    "print('set_param2: ', set_param2)\n",
    "print('set_minRadius: ', set_minRadius)\n",
    "print('set_maxRadius: ', set_maxRadius)"
   ]
  },
  {
   "cell_type": "code",
   "execution_count": null,
   "metadata": {},
   "outputs": [],
   "source": [
    "first_instance.cd.show_raw_circles()"
   ]
  },
  {
   "cell_type": "code",
   "execution_count": null,
   "metadata": {},
   "outputs": [],
   "source": [
    "first_instance.cd.show_initial_circles()"
   ]
  },
  {
   "cell_type": "code",
   "execution_count": 8,
   "metadata": {},
   "outputs": [
    {
     "name": "stdout",
     "output_type": "stream",
     "text": [
      "94.45732920660367 79.25601689244117 14.011580679096689 47.41414906347643 73.25262980467078 101.56627622961905 17.094744772614057 blue 0\n",
      "13.685963337161214 42.415964635726546 111.28844166665972 81.88320054670461 35.09720998340275 7.625550792176249 124.07869992048735 yellow 1\n",
      "14.424439393049855 43.20634550368631 112.12658459468602 82.72668170272478 35.93983574925594 8.17505655760452 124.8817482194673 yellow 2\n",
      "108.7742387446128 94.71726870178222 22.721674290685293 61.907146230825774 88.1165037216294 115.82207833235971 2.2196903348656685 black 3\n",
      "14.424439393049855 43.20634550368631 112.12658459468602 82.72668170272478 35.93983574925594 8.17505655760452 124.8817482194673 yellow 4\n",
      "94.45732920660367 79.25601689244117 14.011580679096689 47.41414906347643 73.25262980467078 101.56627622961905 17.094744772614057 blue 5\n",
      "70.8617519121618 42.37325994184905 39.51981582851649 2.630087818577447 48.04117526621991 77.63119793648771 61.01465375993624 cyan 6\n",
      "14.424439393049855 43.20634550368631 112.12658459468602 82.72668170272478 35.93983574925594 8.17505655760452 124.8817482194673 yellow 7\n",
      "106.09885467941761 91.8040694088676 20.379293162771624 59.0879809435009 85.33179066633011 113.16006260231352 4.702659166306957 black 8\n",
      "71.57400730783225 43.47734671859151 38.16342785261656 3.6678698204354365 48.68944854640983 78.37864853671272 59.66711135896702 cyan 9\n",
      "99.46576645504122 79.98601712593074 2.3647968805902986 43.19751012199196 77.2262377359472 106.62846075203791 20.913379273376236 blue 10\n",
      "41.39306076909974 17.73062030711981 61.955081869359795 30.22937302425885 18.96371392882425 48.10724495006519 78.8722485592403 green 11\n",
      "71.13090131840686 42.821004650615606 38.94169970359119 3.067241391417245 48.280581012243566 77.91632698481905 60.43329231045282 cyan 12\n",
      "99.24896336682984 79.75323586775357 2.215158669780654 42.97610089532323 77.00399019717504 106.41171472913969 21.089722456642203 blue 13\n",
      "12.605136347596899 41.00111048121183 109.91807721148393 80.43236628087605 33.712950783378055 7.044261076568197 122.80589572226089 yellow 14\n",
      "98.77543981796624 79.2003043166855 1.8205187121261996 42.40749738458568 76.50925522590245 105.93836197485521 21.595421336283486 blue 15\n",
      "70.8617519121618 42.37325994184905 39.51981582851649 2.630087818577447 48.04117526621991 77.63119793648771 61.01465375993624 cyan 16\n",
      "106.09885467941761 91.8040694088676 20.379293162771624 59.0879809435009 85.33179066633011 113.16006260231352 4.702659166306957 black 17\n",
      "13.685963337161214 42.415964635726546 111.28844166665972 81.88320054670461 35.09720998340275 7.625550792176249 124.07869992048735 yellow 18\n",
      "[[0 1 5 4 0 6 3]]\n",
      "['blue', 'yellow', 'yellow', 'black', 'yellow', 'blue', 'cyan', 'yellow', 'black', 'cyan', 'blue', 'green', 'cyan', 'blue', 'yellow', 'blue', 'cyan', 'black', 'yellow']\n",
      "ifac [14.011580679096689, 7.625550792176249, 8.17505655760452, 2.2196903348656685, 8.17505655760452, 14.011580679096689, 2.630087818577447, 8.17505655760452, 4.702659166306957, 3.6678698204354365, 2.3647968805902986, 17.73062030711981, 3.067241391417245, 2.215158669780654, 7.044261076568197, 1.8205187121261996, 2.630087818577447, 4.702659166306957, 7.625550792176249]\n",
      "red []\n",
      "green [11]\n",
      "17.73062030711981\n",
      "blue [0, 5, 10, 13, 15]\n",
      "14.011580679096689\n",
      "14.011580679096689\n",
      "2.3647968805902986\n",
      "2.215158669780654\n",
      "1.8205187121261996\n",
      "cyan [6, 9, 12, 16]\n",
      "2.630087818577447\n",
      "3.6678698204354365\n",
      "3.067241391417245\n",
      "2.630087818577447\n",
      "magenta []\n",
      "yellow [1, 2, 4, 7, 14, 18]\n",
      "7.625550792176249\n",
      "8.17505655760452\n",
      "8.17505655760452\n",
      "8.17505655760452\n",
      "7.044261076568197\n",
      "7.625550792176249\n",
      "black [3, 8, 17]\n",
      "2.2196903348656685\n",
      "4.702659166306957\n",
      "4.702659166306957\n",
      "[0, 4]\n",
      "\n",
      "\n",
      "['green', 'blue', 'cyan', 'yellow', 'black']\n",
      "[[[238 394  20]\n",
      "  [244 336  20]\n",
      "  [476 614  21]\n",
      "  [300 706  22]\n",
      "  [352 178  20]]]\n",
      "green green\n",
      "blue blue\n",
      "yellow yellow\n",
      "black black\n"
     ]
    },
    {
     "data": {
      "text/plain": [
       "(array([[ -52,  528],\n",
       "        [ -62, -312],\n",
       "        [   6,  -58]]),\n",
       " array([[0, 0],\n",
       "        [0, 0],\n",
       "        [0, 0]]))"
      ]
     },
     "execution_count": 8,
     "metadata": {},
     "output_type": "execute_result"
    }
   ],
   "source": [
    "first_instance.cd.show_processed_image()"
   ]
  },
  {
   "cell_type": "code",
   "execution_count": null,
   "metadata": {},
   "outputs": [],
   "source": [
    "# vf, vb, ccimg = first_instance.cd.process_image(save=True, path='c:/Users/Darwin/Documents/Wayang_related/imgprocessing/sita_initial_wflash/threequarters/pts/processed/'+str(dict_of_dirs[0][1]))"
   ]
  },
  {
   "cell_type": "code",
   "execution_count": null,
   "metadata": {},
   "outputs": [],
   "source": [
    "# if os.path.isfile('c:/Users/Darwin/Documents/Wayang_related/imgprocessing/sita_initial_wflash/threequarters/pts/processed/'+str(dict_of_dirs[0][1])+'.txt'):\n",
    "#     print('file exists')\n",
    "# else:\n",
    "#     open('c:/Users/Darwin/Documents/Wayang_related/imgprocessing/sita_initial_wflash/threequarters/pts/processed/'+str(dict_of_dirs[0][1])+'.txt', 'x')\n",
    "    \n",
    "# f = open('c:/Users/Darwin/Documents/Wayang_related/imgprocessing/sita_initial_wflash/threequarters/pts/processed/'+str(dict_of_dirs[0][1])+'.txt', 'w')\n",
    "# f.write('vf: '+str(vf)+'\\n')\n",
    "# f.write('vb: '+str(vb)+'\\n')\n",
    "# f.close()"
   ]
  }
 ],
 "metadata": {
  "kernelspec": {
   "display_name": "python-cvcourse",
   "language": "python",
   "name": "python3"
  },
  "language_info": {
   "codemirror_mode": {
    "name": "ipython",
    "version": 3
   },
   "file_extension": ".py",
   "mimetype": "text/x-python",
   "name": "python",
   "nbconvert_exporter": "python",
   "pygments_lexer": "ipython3",
   "version": "3.6.6"
  }
 },
 "nbformat": 4,
 "nbformat_minor": 2
}
